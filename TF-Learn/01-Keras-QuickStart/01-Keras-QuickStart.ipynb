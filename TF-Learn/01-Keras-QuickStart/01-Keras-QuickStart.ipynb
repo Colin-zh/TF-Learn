{
 "cells": [
  {
   "cell_type": "markdown",
   "metadata": {},
   "source": [
    "Keras 是一个用于构建和训练深度学习模型的高阶 API。它可用于快速设计原型、高级研究和生产。\n",
    "\n",
    "keras的3个优点： 方便用户使用、模块化和可组合、易于扩展"
   ]
  },
  {
   "cell_type": "markdown",
   "metadata": {},
   "source": [
    "# 一 导入tf.keras\n",
    "tensorflow2推荐使用keras构建网络，常见的神经网络都包含在keras.layer中(最新的tf.keras的版本可能和keras不同)"
   ]
  },
  {
   "cell_type": "code",
   "execution_count": 1,
   "metadata": {},
   "outputs": [
    {
     "name": "stdout",
     "output_type": "stream",
     "text": [
      "2.2.0\n",
      "2.3.0-tf\n"
     ]
    }
   ],
   "source": [
    "import tensorflow as tf\n",
    "from tensorflow.keras import layers\n",
    "print(tf.__version__)\n",
    "print(tf.keras.__version__)"
   ]
  },
  {
   "cell_type": "markdown",
   "metadata": {},
   "source": [
    "# 二 构建简单模型"
   ]
  },
  {
   "cell_type": "markdown",
   "metadata": {},
   "source": [
    "## 1 模型堆叠\n",
    "最常见的模型类型是层的堆叠：tf.keras.Sequential 模型"
   ]
  },
  {
   "cell_type": "code",
   "execution_count": 2,
   "metadata": {},
   "outputs": [],
   "source": [
    "model = tf.keras.Sequential()\n",
    "model.add(layers.Dense(32, activation='relu'))\n",
    "model.add(layers.Dense(32, activation='relu'))\n",
    "model.add(layers.Dense(10, activation='softmax'))"
   ]
  },
  {
   "cell_type": "markdown",
   "metadata": {},
   "source": [
    "## 2 网络配置\n",
    "tf.keras.layers中网络配置：\n",
    "\n",
    "activation：设置层的激活函数。此参数由内置函数的名称指定，或指定为可调用对象。默认情况下，系统不会应用任何激活函数。\n",
    "\n",
    "kernel_initializer 和 bias_initializer：创建层权重（核和偏差）的初始化方案。此参数是一个名称或可调用对象，默认为 \"Glorot uniform\" 初始化器。\n",
    "\n",
    "kernel_regularizer 和 bias_regularizer：应用层权重（核和偏差）的正则化方案，例如 L1 或 L2 正则化。默认情况下，系统不会应用正则化函数。"
   ]
  },
  {
   "cell_type": "code",
   "execution_count": 4,
   "metadata": {},
   "outputs": [
    {
     "data": {
      "text/plain": [
       "<tensorflow.python.keras.layers.core.Dense at 0x7ffdf5536610>"
      ]
     },
     "execution_count": 4,
     "metadata": {},
     "output_type": "execute_result"
    }
   ],
   "source": [
    "layers.Dense(32, activation='sigmoid')\n",
    "layers.Dense(32, activation=tf.sigmoid)\n",
    "layers.Dense(32, kernel_initializer='orthogonal')\n",
    "layers.Dense(32, kernel_initializer=tf.keras.initializers.glorot_normal)\n",
    "layers.Dense(32, kernel_regularizer=tf.keras.regularizers.l2(0.01))\n",
    "layers.Dense(32, kernel_regularizer=tf.keras.regularizers.l1(0.01))"
   ]
  },
  {
   "cell_type": "markdown",
   "metadata": {},
   "source": [
    "# 三 训练和评估\n",
    "## 1 设置训练流程\n",
    "构建好模型后，通过调用 compile 方法配置该模型的学习流程"
   ]
  },
  {
   "cell_type": "code",
   "execution_count": 5,
   "metadata": {},
   "outputs": [],
   "source": [
    "model = tf.keras.Sequential()\n",
    "model.add(layers.Dense(32, activation='relu'))\n",
    "model.add(layers.Dense(32, activation='relu'))\n",
    "model.add(layers.Dense(10, activation='softmax'))\n",
    "model.compile(optimizer=tf.keras.optimizers.Adam(0.001),\n",
    "             loss=tf.keras.losses.categorical_crossentropy,\n",
    "             metrics=[tf.keras.metrics.categorical_accuracy])"
   ]
  },
  {
   "cell_type": "markdown",
   "metadata": {},
   "source": [
    "## 2 输入Numpy数据"
   ]
  },
  {
   "cell_type": "code",
   "execution_count": 6,
   "metadata": {},
   "outputs": [
    {
     "name": "stdout",
     "output_type": "stream",
     "text": [
      "Epoch 1/10\n",
      "10/10 [==============================] - 0s 17ms/step - loss: 11.7623 - categorical_accuracy: 0.0950 - val_loss: 11.4961 - val_categorical_accuracy: 0.1100\n",
      "Epoch 2/10\n",
      "10/10 [==============================] - 0s 3ms/step - loss: 11.7672 - categorical_accuracy: 0.1040 - val_loss: 11.6511 - val_categorical_accuracy: 0.1050\n",
      "Epoch 3/10\n",
      "10/10 [==============================] - 0s 3ms/step - loss: 12.0566 - categorical_accuracy: 0.1060 - val_loss: 12.1515 - val_categorical_accuracy: 0.0900\n",
      "Epoch 4/10\n",
      "10/10 [==============================] - 0s 3ms/step - loss: 12.8721 - categorical_accuracy: 0.1070 - val_loss: 13.4141 - val_categorical_accuracy: 0.0900\n",
      "Epoch 5/10\n",
      "10/10 [==============================] - 0s 4ms/step - loss: 14.6468 - categorical_accuracy: 0.1070 - val_loss: 15.5993 - val_categorical_accuracy: 0.0900\n",
      "Epoch 6/10\n",
      "10/10 [==============================] - 0s 3ms/step - loss: 16.8423 - categorical_accuracy: 0.1070 - val_loss: 17.3673 - val_categorical_accuracy: 0.0900\n",
      "Epoch 7/10\n",
      "10/10 [==============================] - 0s 4ms/step - loss: 18.2473 - categorical_accuracy: 0.1060 - val_loss: 18.5502 - val_categorical_accuracy: 0.0900\n",
      "Epoch 8/10\n",
      "10/10 [==============================] - 0s 3ms/step - loss: 20.0342 - categorical_accuracy: 0.1060 - val_loss: 21.4417 - val_categorical_accuracy: 0.0900\n",
      "Epoch 9/10\n",
      "10/10 [==============================] - 0s 3ms/step - loss: 23.5654 - categorical_accuracy: 0.1050 - val_loss: 25.2679 - val_categorical_accuracy: 0.0900\n",
      "Epoch 10/10\n",
      "10/10 [==============================] - 0s 3ms/step - loss: 27.6295 - categorical_accuracy: 0.1050 - val_loss: 29.9125 - val_categorical_accuracy: 0.0900\n"
     ]
    },
    {
     "data": {
      "text/plain": [
       "<tensorflow.python.keras.callbacks.History at 0x7ffdf6afee90>"
      ]
     },
     "execution_count": 6,
     "metadata": {},
     "output_type": "execute_result"
    }
   ],
   "source": [
    "import numpy as np\n",
    "\n",
    "train_x = np.random.random((1000, 72))\n",
    "train_y = np.random.random((1000, 10))\n",
    "\n",
    "val_x = np.random.random((200, 72))\n",
    "val_y = np.random.random((200, 10))\n",
    "\n",
    "model.fit(train_x, train_y, epochs=10, batch_size=100,\n",
    "          validation_data=(val_x, val_y))"
   ]
  },
  {
   "cell_type": "markdown",
   "metadata": {},
   "source": [
    "## 3 tf.data输入数据"
   ]
  },
  {
   "cell_type": "code",
   "execution_count": 10,
   "metadata": {},
   "outputs": [
    {
     "name": "stdout",
     "output_type": "stream",
     "text": [
      "Epoch 1/10\n",
      "WARNING:tensorflow:Layer dense_9 is casting an input tensor from dtype float64 to the layer's dtype of float32, which is new behavior in TensorFlow 2.  The layer has dtype float32 because it's dtype defaults to floatx.\n",
      "\n",
      "If you intended to run this layer in float32, you can safely ignore this warning. If in doubt, this warning is likely only an issue if you are porting a TensorFlow 1.X model to TensorFlow 2.\n",
      "\n",
      "To change all layers to have dtype float64 by default, call `tf.keras.backend.set_floatx('float64')`. To change just this layer, pass dtype='float64' to the layer constructor. If you are the author of this layer, you can disable autocasting by passing autocast=False to the base Layer constructor.\n",
      "\n",
      "30/30 [==============================] - 0s 5ms/step - loss: 39.4409 - categorical_accuracy: 0.1052 - val_loss: 50.4828 - val_categorical_accuracy: 0.1146\n",
      "Epoch 2/10\n",
      "30/30 [==============================] - 0s 1ms/step - loss: 62.7826 - categorical_accuracy: 0.1090 - val_loss: 77.7507 - val_categorical_accuracy: 0.1042\n",
      "Epoch 3/10\n",
      "30/30 [==============================] - 0s 1ms/step - loss: 92.9841 - categorical_accuracy: 0.1068 - val_loss: 112.0685 - val_categorical_accuracy: 0.1042\n",
      "Epoch 4/10\n",
      "30/30 [==============================] - 0s 1ms/step - loss: 129.6243 - categorical_accuracy: 0.0994 - val_loss: 152.0921 - val_categorical_accuracy: 0.0938\n",
      "Epoch 5/10\n",
      "30/30 [==============================] - 0s 1ms/step - loss: 170.0467 - categorical_accuracy: 0.1036 - val_loss: 196.3020 - val_categorical_accuracy: 0.0938\n",
      "Epoch 6/10\n",
      "30/30 [==============================] - 0s 1ms/step - loss: 215.1805 - categorical_accuracy: 0.1026 - val_loss: 243.6852 - val_categorical_accuracy: 0.1354\n",
      "Epoch 7/10\n",
      "30/30 [==============================] - 0s 1ms/step - loss: 261.4401 - categorical_accuracy: 0.1036 - val_loss: 292.2375 - val_categorical_accuracy: 0.1354\n",
      "Epoch 8/10\n",
      "30/30 [==============================] - 0s 1ms/step - loss: 306.9580 - categorical_accuracy: 0.1015 - val_loss: 336.2558 - val_categorical_accuracy: 0.1562\n",
      "Epoch 9/10\n",
      "30/30 [==============================] - 0s 1ms/step - loss: 342.7482 - categorical_accuracy: 0.0994 - val_loss: 368.4528 - val_categorical_accuracy: 0.0417\n",
      "Epoch 10/10\n",
      "30/30 [==============================] - 0s 1ms/step - loss: 365.5462 - categorical_accuracy: 0.1175 - val_loss: 384.9568 - val_categorical_accuracy: 0.0625\n"
     ]
    },
    {
     "data": {
      "text/plain": [
       "<tensorflow.python.keras.callbacks.History at 0x7ffdf70164d0>"
      ]
     },
     "execution_count": 10,
     "metadata": {},
     "output_type": "execute_result"
    }
   ],
   "source": [
    "dataset = tf.data.Dataset.from_tensor_slices((train_x, train_y))\n",
    "dataset = dataset.batch(32)\n",
    "dataset = dataset.repeat()\n",
    "val_dataset = tf.data.Dataset.from_tensor_slices((val_x, val_y))\n",
    "val_dataset = val_dataset.batch(32)\n",
    "val_dataset = val_dataset.repeat()\n",
    "\n",
    "model.fit(dataset, epochs=10, steps_per_epoch=30,\n",
    "          validation_data=val_dataset, validation_steps=3)"
   ]
  },
  {
   "cell_type": "markdown",
   "metadata": {},
   "source": [
    "## 4 评估与预测"
   ]
  },
  {
   "cell_type": "code",
   "execution_count": 11,
   "metadata": {},
   "outputs": [
    {
     "name": "stdout",
     "output_type": "stream",
     "text": [
      "32/32 [==============================] - 0s 1ms/step - loss: 371.9262 - categorical_accuracy: 0.1150\n",
      "[[0.14617059 0.         0.44325683 ... 0.24743341 0.         0.07378685]\n",
      " [0.09678894 0.         0.45749015 ... 0.27065718 0.         0.08270715]\n",
      " [0.07537924 0.         0.38921562 ... 0.35300323 0.         0.06276681]\n",
      " ...\n",
      " [0.14449637 0.         0.418727   ... 0.25003332 0.         0.07910018]\n",
      " [0.1474828  0.         0.47771034 ... 0.20119177 0.         0.08346068]\n",
      " [0.13827567 0.         0.39894342 ... 0.28650755 0.         0.07677433]]\n"
     ]
    }
   ],
   "source": [
    "test_x = np.random.random((1000, 72))\n",
    "test_y = np.random.random((1000, 10))\n",
    "model.evaluate(test_x, test_y, batch_size=32)\n",
    "# predict\n",
    "result = model.predict(test_x, batch_size=32)\n",
    "print(result)"
   ]
  },
  {
   "cell_type": "code",
   "execution_count": 12,
   "metadata": {},
   "outputs": [
    {
     "name": "stdout",
     "output_type": "stream",
     "text": [
      "30/30 [==============================] - 0s 1ms/step - loss: 372.8016 - categorical_accuracy: 0.1146\n",
      "[[0.14617059 0.         0.44325683 ... 0.24743341 0.         0.07378685]\n",
      " [0.09678894 0.         0.45749015 ... 0.27065718 0.         0.08270715]\n",
      " [0.07537924 0.         0.38921562 ... 0.35300323 0.         0.06276681]\n",
      " ...\n",
      " [0.14449637 0.         0.418727   ... 0.25003332 0.         0.07910018]\n",
      " [0.1474828  0.         0.47771034 ... 0.20119177 0.         0.08346068]\n",
      " [0.13827567 0.         0.39894342 ... 0.28650755 0.         0.07677433]]\n"
     ]
    }
   ],
   "source": [
    "test_data = tf.data.Dataset.from_tensor_slices((test_x, test_y))\n",
    "test_data = test_data.batch(32).repeat()\n",
    "model.evaluate(test_data, steps=30)\n",
    "# predict\n",
    "result = model.predict(test_x, batch_size=32)\n",
    "print(result)"
   ]
  },
  {
   "cell_type": "markdown",
   "metadata": {},
   "source": [
    "# 四 构建高级模型"
   ]
  },
  {
   "cell_type": "markdown",
   "metadata": {},
   "source": [
    "## 1 函数式API\n",
    "tf.keras.Sequential 模型是层的简单堆叠，无法表示任意模型。使用 Keras 函数式 API 可以构建复杂的模型拓扑，例如：\n",
    "\n",
    "多输入模型，\n",
    "\n",
    "多输出模型，\n",
    "\n",
    "具有共享层的模型（同一层被调用多次），\n",
    "\n",
    "具有非序列数据流的模型（例如，残差连接）。\n",
    "\n",
    "**使用函数式 API 构建的模型具有以下特征：**\n",
    "\n",
    "层实例可调用并返回张量。 输入张量和输出张量用于定义 tf.keras.Model 实例。 此模型的训练方式和 Sequential 模型一样。"
   ]
  },
  {
   "cell_type": "code",
   "execution_count": 13,
   "metadata": {},
   "outputs": [
    {
     "name": "stdout",
     "output_type": "stream",
     "text": [
      "Epoch 1/5\n",
      "32/32 [==============================] - 0s 1ms/step - loss: 14.0922 - accuracy: 0.1040\n",
      "Epoch 2/5\n",
      "32/32 [==============================] - 0s 945us/step - loss: 25.6297 - accuracy: 0.1000\n",
      "Epoch 3/5\n",
      "32/32 [==============================] - 0s 1ms/step - loss: 53.5605 - accuracy: 0.1140\n",
      "Epoch 4/5\n",
      "32/32 [==============================] - 0s 947us/step - loss: 97.2078 - accuracy: 0.1070\n",
      "Epoch 5/5\n",
      "32/32 [==============================] - 0s 826us/step - loss: 153.7609 - accuracy: 0.1050\n"
     ]
    },
    {
     "data": {
      "text/plain": [
       "<tensorflow.python.keras.callbacks.History at 0x7ffdd858bcd0>"
      ]
     },
     "execution_count": 13,
     "metadata": {},
     "output_type": "execute_result"
    }
   ],
   "source": [
    "input_x = tf.keras.Input(shape=(72,))\n",
    "hidden1 = layers.Dense(32, activation='relu')(input_x)\n",
    "hidden2 = layers.Dense(16, activation='relu')(hidden1)\n",
    "pred = layers.Dense(10, activation='softmax')(hidden2)\n",
    "\n",
    "model = tf.keras.Model(inputs=input_x, outputs=pred)\n",
    "model.compile(optimizer=tf.keras.optimizers.Adam(0.001),\n",
    "             loss=tf.keras.losses.categorical_crossentropy,\n",
    "             metrics=['accuracy'])\n",
    "model.fit(train_x, train_y, batch_size=32, epochs=5)"
   ]
  },
  {
   "cell_type": "markdown",
   "metadata": {},
   "source": [
    "## 2 模型子类化\n",
    "通过对 tf.keras.Model 进行子类化并定义您自己的前向传播来构建完全可自定义的模型。在 **init** 方法中创建层并将它们设置为类实例的属性。在 call 方法中定义前向传播"
   ]
  },
  {
   "cell_type": "code",
   "execution_count": 14,
   "metadata": {},
   "outputs": [
    {
     "name": "stdout",
     "output_type": "stream",
     "text": [
      "Epoch 1/5\n",
      "63/63 [==============================] - 0s 1ms/step - loss: 14.7129 - accuracy: 0.1070\n",
      "Epoch 2/5\n",
      "63/63 [==============================] - 0s 888us/step - loss: 21.9582 - accuracy: 0.1030\n",
      "Epoch 3/5\n",
      "63/63 [==============================] - 0s 773us/step - loss: 29.4208 - accuracy: 0.0970\n",
      "Epoch 4/5\n",
      "63/63 [==============================] - 0s 750us/step - loss: 36.2437 - accuracy: 0.0940\n",
      "Epoch 5/5\n",
      "63/63 [==============================] - 0s 729us/step - loss: 42.8693 - accuracy: 0.0850\n"
     ]
    },
    {
     "data": {
      "text/plain": [
       "<tensorflow.python.keras.callbacks.History at 0x7ffdd86a2690>"
      ]
     },
     "execution_count": 14,
     "metadata": {},
     "output_type": "execute_result"
    }
   ],
   "source": [
    "class MyModel(tf.keras.Model):\n",
    "    def __init__(self, num_classes=10):\n",
    "        super(MyModel, self).__init__(name='my_model')\n",
    "        self.num_classes = num_classes\n",
    "        self.layer1 = layers.Dense(32, activation='relu')\n",
    "        self.layer2 = layers.Dense(num_classes, activation='softmax')\n",
    "    \n",
    "    def call(self, inputs):\n",
    "        h1 = self.layer1(inputs)\n",
    "        out = self.layer2(h1)\n",
    "        return out\n",
    "\n",
    "    def compute_output_shape(self, input_shape):\n",
    "        shape = tf.TensorShape(input_shape).as_list()\n",
    "        shape[-1] = self.num_classes\n",
    "        return tf.TensorShape(shape)\n",
    "\n",
    "model = MyModel(num_classes=10)\n",
    "model.compile(optimizer=tf.keras.optimizers.RMSprop(0.001),\n",
    "             loss=tf.keras.losses.categorical_crossentropy,\n",
    "             metrics=['accuracy'])\n",
    "\n",
    "model.fit(train_x, train_y, batch_size=16, epochs=5)"
   ]
  },
  {
   "cell_type": "markdown",
   "metadata": {},
   "source": [
    "## 3 自定义层\n",
    "通过对 tf.keras.layers.Layer 进行子类化并实现以下方法来创建自定义层：\n",
    "\n",
    "build：创建层的权重。使用 add_weight 方法添加权重。\n",
    "\n",
    "call：定义前向传播。\n",
    "\n",
    "compute_output_shape：指定在给定输入形状的情况下如何计算层的输出形状。 或者，可以通过实现 get_config 方法和 from_config 类方法序列化层。"
   ]
  },
  {
   "cell_type": "code",
   "execution_count": 15,
   "metadata": {},
   "outputs": [
    {
     "name": "stdout",
     "output_type": "stream",
     "text": [
      "Epoch 1/5\n",
      "63/63 [==============================] - 0s 859us/step - loss: 11.6043 - accuracy: 0.0960\n",
      "Epoch 2/5\n",
      "63/63 [==============================] - 0s 748us/step - loss: 11.6010 - accuracy: 0.1030\n",
      "Epoch 3/5\n",
      "63/63 [==============================] - 0s 680us/step - loss: 11.5981 - accuracy: 0.1000\n",
      "Epoch 4/5\n",
      "63/63 [==============================] - 0s 684us/step - loss: 11.5954 - accuracy: 0.0980\n",
      "Epoch 5/5\n",
      "63/63 [==============================] - 0s 656us/step - loss: 11.5940 - accuracy: 0.0960\n"
     ]
    },
    {
     "data": {
      "text/plain": [
       "<tensorflow.python.keras.callbacks.History at 0x7ffdd9004c10>"
      ]
     },
     "execution_count": 15,
     "metadata": {},
     "output_type": "execute_result"
    }
   ],
   "source": [
    "class MyLayer(layers.Layer):\n",
    "    def __init__(self, output_dim, **kwargs):\n",
    "        self.output_dim = output_dim\n",
    "        super(MyLayer, self).__init__(**kwargs)\n",
    "\n",
    "    def build(self, input_shape):\n",
    "        shape = tf.TensorShape((input_shape[1], self.output_dim))\n",
    "        self.kernel = self.add_weight(name='kernel1', shape=shape,\n",
    "                                   initializer='uniform', trainable=True)\n",
    "        super(MyLayer, self).build(input_shape)\n",
    "\n",
    "    def call(self, inputs):\n",
    "        return tf.matmul(inputs, self.kernel)\n",
    "\n",
    "    def compute_output_shape(self, input_shape):\n",
    "        shape = tf.TensorShape(input_shape).as_list()\n",
    "        shape[-1] = self.output_dim\n",
    "        return tf.TensorShape(shape)\n",
    "\n",
    "    def get_config(self):\n",
    "        base_config = super(MyLayer, self).get_config()\n",
    "        base_config['output_dim'] = self.output_dim\n",
    "        return base_config\n",
    "\n",
    "    @classmethod\n",
    "    def from_config(cls, config):\n",
    "        return cls(**config)\n",
    "\n",
    "model = tf.keras.Sequential(\n",
    "[\n",
    "    MyLayer(10),\n",
    "    layers.Activation('softmax')\n",
    "])\n",
    "\n",
    "\n",
    "model.compile(optimizer=tf.keras.optimizers.RMSprop(0.001),\n",
    "             loss=tf.keras.losses.categorical_crossentropy,\n",
    "             metrics=['accuracy'])\n",
    "\n",
    "model.fit(train_x, train_y, batch_size=16, epochs=5)"
   ]
  },
  {
   "cell_type": "markdown",
   "metadata": {},
   "source": [
    "## 4 回调"
   ]
  },
  {
   "cell_type": "code",
   "execution_count": 16,
   "metadata": {},
   "outputs": [
    {
     "name": "stdout",
     "output_type": "stream",
     "text": [
      "Epoch 1/5\n",
      "63/63 [==============================] - 0s 3ms/step - loss: 11.5910 - accuracy: 0.1010 - val_loss: 11.3790 - val_accuracy: 0.1000\n",
      "Epoch 2/5\n",
      "63/63 [==============================] - 0s 1ms/step - loss: 11.5894 - accuracy: 0.1040 - val_loss: 11.3721 - val_accuracy: 0.1000\n",
      "Epoch 3/5\n",
      "63/63 [==============================] - 0s 1ms/step - loss: 11.5858 - accuracy: 0.0930 - val_loss: 11.3721 - val_accuracy: 0.0950\n",
      "Epoch 4/5\n",
      "63/63 [==============================] - 0s 1ms/step - loss: 11.5852 - accuracy: 0.0920 - val_loss: 11.3699 - val_accuracy: 0.1000\n",
      "Epoch 5/5\n",
      "63/63 [==============================] - 0s 1ms/step - loss: 11.5828 - accuracy: 0.0890 - val_loss: 11.3687 - val_accuracy: 0.0950\n"
     ]
    },
    {
     "data": {
      "text/plain": [
       "<tensorflow.python.keras.callbacks.History at 0x7ffdd903f510>"
      ]
     },
     "execution_count": 16,
     "metadata": {},
     "output_type": "execute_result"
    }
   ],
   "source": [
    "callbacks = [\n",
    "    tf.keras.callbacks.EarlyStopping(patience=2, monitor='val_loss'),\n",
    "    tf.keras.callbacks.TensorBoard(log_dir='./logs')\n",
    "]\n",
    "model.fit(train_x, train_y, batch_size=16, epochs=5,\n",
    "         callbacks=callbacks, validation_data=(val_x, val_y))"
   ]
  },
  {
   "cell_type": "markdown",
   "metadata": {},
   "source": [
    "# 五 保持和恢复\n",
    "## 1 权重保存"
   ]
  },
  {
   "cell_type": "code",
   "execution_count": 18,
   "metadata": {},
   "outputs": [
    {
     "name": "stdout",
     "output_type": "stream",
     "text": [
      "Epoch 1/5\n",
      "63/63 [==============================] - 0s 2ms/step - loss: 13.7191 - accuracy: 0.0940 - val_loss: 16.8436 - val_accuracy: 0.1100\n",
      "Epoch 2/5\n",
      "63/63 [==============================] - 0s 1ms/step - loss: 20.6583 - accuracy: 0.0980 - val_loss: 23.7384 - val_accuracy: 0.1150\n",
      "Epoch 3/5\n",
      "63/63 [==============================] - 0s 1ms/step - loss: 24.6128 - accuracy: 0.0890 - val_loss: 25.6564 - val_accuracy: 0.1150\n",
      "Epoch 4/5\n",
      "63/63 [==============================] - 0s 1ms/step - loss: 26.2493 - accuracy: 0.1020 - val_loss: 26.8418 - val_accuracy: 0.0900\n",
      "Epoch 5/5\n",
      "63/63 [==============================] - 0s 1ms/step - loss: 27.5547 - accuracy: 0.1020 - val_loss: 27.9652 - val_accuracy: 0.0900\n"
     ]
    }
   ],
   "source": [
    "model = tf.keras.Sequential([\n",
    "layers.Dense(64, activation='relu'),\n",
    "layers.Dense(10, activation='softmax')])\n",
    "\n",
    "model.compile(optimizer=tf.keras.optimizers.Adam(0.001),\n",
    "              loss='categorical_crossentropy',\n",
    "              metrics=['accuracy'])\n",
    "\n",
    "model.fit(train_x, train_y, batch_size=16, epochs=5,\n",
    "         validation_data=(val_x, val_y))\n",
    "\n",
    "model.save_weights('./weights/model')\n",
    "model.load_weights('./weights/model')\n",
    "model.save_weights('./model.h5')\n",
    "model.load_weights('./model.h5')"
   ]
  },
  {
   "cell_type": "markdown",
   "metadata": {},
   "source": [
    "## 2 保存网络结构"
   ]
  },
  {
   "cell_type": "code",
   "execution_count": 19,
   "metadata": {},
   "outputs": [
    {
     "name": "stdout",
     "output_type": "stream",
     "text": [
      "{'backend': 'tensorflow',\n",
      " 'class_name': 'Sequential',\n",
      " 'config': {'build_input_shape': [None, 72],\n",
      "            'layers': [{'class_name': 'Dense',\n",
      "                        'config': {'activation': 'relu',\n",
      "                                   'activity_regularizer': None,\n",
      "                                   'bias_constraint': None,\n",
      "                                   'bias_initializer': {'class_name': 'Zeros',\n",
      "                                                        'config': {}},\n",
      "                                   'bias_regularizer': None,\n",
      "                                   'dtype': 'float32',\n",
      "                                   'kernel_constraint': None,\n",
      "                                   'kernel_initializer': {'class_name': 'GlorotUniform',\n",
      "                                                          'config': {'seed': None}},\n",
      "                                   'kernel_regularizer': None,\n",
      "                                   'name': 'dense_19',\n",
      "                                   'trainable': True,\n",
      "                                   'units': 64,\n",
      "                                   'use_bias': True}},\n",
      "                       {'class_name': 'Dense',\n",
      "                        'config': {'activation': 'softmax',\n",
      "                                   'activity_regularizer': None,\n",
      "                                   'bias_constraint': None,\n",
      "                                   'bias_initializer': {'class_name': 'Zeros',\n",
      "                                                        'config': {}},\n",
      "                                   'bias_regularizer': None,\n",
      "                                   'dtype': 'float32',\n",
      "                                   'kernel_constraint': None,\n",
      "                                   'kernel_initializer': {'class_name': 'GlorotUniform',\n",
      "                                                          'config': {'seed': None}},\n",
      "                                   'kernel_regularizer': None,\n",
      "                                   'name': 'dense_20',\n",
      "                                   'trainable': True,\n",
      "                                   'units': 10,\n",
      "                                   'use_bias': True}}],\n",
      "            'name': 'sequential_4'},\n",
      " 'keras_version': '2.3.0-tf'}\n",
      "backend: tensorflow\n",
      "class_name: Sequential\n",
      "config:\n",
      "  build_input_shape: !!python/tuple\n",
      "  - null\n",
      "  - 72\n",
      "  layers:\n",
      "  - class_name: Dense\n",
      "    config:\n",
      "      activation: relu\n",
      "      activity_regularizer: null\n",
      "      bias_constraint: null\n",
      "      bias_initializer:\n",
      "        class_name: Zeros\n",
      "        config: {}\n",
      "      bias_regularizer: null\n",
      "      dtype: float32\n",
      "      kernel_constraint: null\n",
      "      kernel_initializer:\n",
      "        class_name: GlorotUniform\n",
      "        config:\n",
      "          seed: null\n",
      "      kernel_regularizer: null\n",
      "      name: dense_19\n",
      "      trainable: true\n",
      "      units: 64\n",
      "      use_bias: true\n",
      "  - class_name: Dense\n",
      "    config:\n",
      "      activation: softmax\n",
      "      activity_regularizer: null\n",
      "      bias_constraint: null\n",
      "      bias_initializer:\n",
      "        class_name: Zeros\n",
      "        config: {}\n",
      "      bias_regularizer: null\n",
      "      dtype: float32\n",
      "      kernel_constraint: null\n",
      "      kernel_initializer:\n",
      "        class_name: GlorotUniform\n",
      "        config:\n",
      "          seed: null\n",
      "      kernel_regularizer: null\n",
      "      name: dense_20\n",
      "      trainable: true\n",
      "      units: 10\n",
      "      use_bias: true\n",
      "  name: sequential_4\n",
      "keras_version: 2.3.0-tf\n",
      "\n"
     ]
    },
    {
     "name": "stderr",
     "output_type": "stream",
     "text": [
      "/opt/anaconda3/lib/python3.7/site-packages/tensorflow/python/keras/saving/model_config.py:88: YAMLLoadWarning: calling yaml.load() without Loader=... is deprecated, as the default Loader is unsafe. Please read https://msg.pyyaml.org/load for full details.\n",
      "  config = yaml.load(yaml_string)\n"
     ]
    }
   ],
   "source": [
    "# 序列化成json\n",
    "import json\n",
    "import pprint\n",
    "json_str = model.to_json()\n",
    "pprint.pprint(json.loads(json_str))\n",
    "fresh_model = tf.keras.models.model_from_json(json_str)\n",
    "# 保持为yaml格式  #需要提前安装pyyaml\n",
    "\n",
    "yaml_str = model.to_yaml()\n",
    "print(yaml_str)\n",
    "fresh_model = tf.keras.models.model_from_yaml(yaml_str)"
   ]
  },
  {
   "cell_type": "markdown",
   "metadata": {},
   "source": [
    "## 3 保存整个模型"
   ]
  },
  {
   "cell_type": "code",
   "execution_count": 20,
   "metadata": {},
   "outputs": [
    {
     "name": "stdout",
     "output_type": "stream",
     "text": [
      "Epoch 1/5\n",
      "32/32 [==============================] - 0s 916us/step - loss: 11.5952 - accuracy: 0.0950\n",
      "Epoch 2/5\n",
      "32/32 [==============================] - 0s 916us/step - loss: 11.6888 - accuracy: 0.1100\n",
      "Epoch 3/5\n",
      "32/32 [==============================] - 0s 933us/step - loss: 11.7366 - accuracy: 0.1100\n",
      "Epoch 4/5\n",
      "32/32 [==============================] - 0s 809us/step - loss: 11.7483 - accuracy: 0.1100\n",
      "Epoch 5/5\n",
      "32/32 [==============================] - 0s 742us/step - loss: 11.7518 - accuracy: 0.1100\n"
     ]
    }
   ],
   "source": [
    "model = tf.keras.Sequential([\n",
    "  layers.Dense(10, activation='softmax', input_shape=(72,)),\n",
    "  layers.Dense(10, activation='softmax')\n",
    "])\n",
    "model.compile(optimizer='rmsprop',\n",
    "              loss='categorical_crossentropy',\n",
    "              metrics=['accuracy'])\n",
    "model.fit(train_x, train_y, batch_size=32, epochs=5)\n",
    "model.save('all_model.h5')\n",
    "model = tf.keras.models.load_model('all_model.h5')"
   ]
  },
  {
   "cell_type": "markdown",
   "metadata": {},
   "source": [
    "## 六 将keras用于Estimator\n",
    "Estimator API 用于针对分布式环境训练模型。它适用于一些行业使用场景，例如用大型数据集进行分布式训练并导出模型以用于生产"
   ]
  },
  {
   "cell_type": "code",
   "execution_count": null,
   "metadata": {},
   "outputs": [],
   "source": [
    "model = tf.keras.Sequential([layers.Dense(10,activation='softmax'),\n",
    "                          layers.Dense(10,activation='softmax')])\n",
    "\n",
    "model.compile(optimizer=tf.keras.optimizers.RMSprop(0.001),\n",
    "              loss='categorical_crossentropy',\n",
    "              metrics=['accuracy'])\n",
    "\n",
    "estimator = tf.keras.estimator.model_to_estimator(model)"
   ]
  }
 ],
 "metadata": {
  "kernelspec": {
   "display_name": "Python 3",
   "language": "python",
   "name": "python3"
  },
  "language_info": {
   "codemirror_mode": {
    "name": "ipython",
    "version": 3
   },
   "file_extension": ".py",
   "mimetype": "text/x-python",
   "name": "python",
   "nbconvert_exporter": "python",
   "pygments_lexer": "ipython3",
   "version": "3.7.6"
  }
 },
 "nbformat": 4,
 "nbformat_minor": 4
}
